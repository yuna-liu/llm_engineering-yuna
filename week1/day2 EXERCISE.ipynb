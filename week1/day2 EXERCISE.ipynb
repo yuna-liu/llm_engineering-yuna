{
 "cells": [
  {
   "cell_type": "markdown",
   "id": "d15d8294-3328-4e07-ad16-8a03e9bbfdb9",
   "metadata": {},
   "source": [
    "# Welcome to your first assignment!\n",
    "\n",
    "Instructions are below. Please give this a try, and look in the solutions folder if you get stuck (or feel free to ask me!)"
   ]
  },
  {
   "cell_type": "markdown",
   "id": "ada885d9-4d42-4d9b-97f0-74fbbbfe93a9",
   "metadata": {},
   "source": [
    "<table style=\"margin: 0; text-align: left;\">\n",
    "    <tr>\n",
    "        <td style=\"width: 150px; height: 150px; vertical-align: middle;\">\n",
    "            <img src=\"../resources.jpg\" width=\"150\" height=\"150\" style=\"display: block;\" />\n",
    "        </td>\n",
    "        <td>\n",
    "            <h2 style=\"color:#f71;\">Just before we get to the assignment --</h2>\n",
    "            <span style=\"color:#f71;\">I thought I'd take a second to point you at this page of useful resources for the course. This includes links to all the slides.<br/>\n",
    "            <a href=\"https://edwarddonner.com/2024/11/13/llm-engineering-resources/\">https://edwarddonner.com/2024/11/13/llm-engineering-resources/</a><br/>\n",
    "            Please keep this bookmarked, and I'll continue to add more useful links there over time.\n",
    "            </span>\n",
    "        </td>\n",
    "    </tr>\n",
    "</table>"
   ]
  },
  {
   "cell_type": "markdown",
   "id": "6e9fa1fc-eac5-4d1d-9be4-541b3f2b3458",
   "metadata": {},
   "source": [
    "# HOMEWORK EXERCISE ASSIGNMENT\n",
    "\n",
    "Upgrade the day 1 project to summarize a webpage to use an Open Source model running locally via Ollama rather than OpenAI\n",
    "\n",
    "You'll be able to use this technique for all subsequent projects if you'd prefer not to use paid APIs.\n",
    "\n",
    "**Benefits:**\n",
    "1. No API charges - open-source\n",
    "2. Data doesn't leave your box\n",
    "\n",
    "**Disadvantages:**\n",
    "1. Significantly less power than Frontier Model\n",
    "\n",
    "## Recap on installation of Ollama\n",
    "\n",
    "Simply visit [ollama.com](https://ollama.com) and install!\n",
    "\n",
    "Once complete, the ollama server should already be running locally.  \n",
    "If you visit:  \n",
    "[http://localhost:11434/](http://localhost:11434/)\n",
    "\n",
    "You should see the message `Ollama is running`.  \n",
    "\n",
    "If not, bring up a new Terminal (Mac) or Powershell (Windows) and enter `ollama serve`  \n",
    "And in another Terminal (Mac) or Powershell (Windows), enter `ollama pull llama3.2`  \n",
    "Then try [http://localhost:11434/](http://localhost:11434/) again.\n",
    "\n",
    "If Ollama is slow on your machine, try using `llama3.2:1b` as an alternative. Run `ollama pull llama3.2:1b` from a Terminal or Powershell, and change the code below from `MODEL = \"llama3.2\"` to `MODEL = \"llama3.2:1b\"`"
   ]
  },
  {
   "cell_type": "code",
   "execution_count": 1,
   "id": "4e2a9393-7767-488e-a8bf-27c12dca35bd",
   "metadata": {},
   "outputs": [],
   "source": [
    "# imports\n",
    "\n",
    "import requests\n",
    "from bs4 import BeautifulSoup\n",
    "from IPython.display import Markdown, display"
   ]
  },
  {
   "cell_type": "code",
   "execution_count": 2,
   "id": "29ddd15d-a3c5-4f4e-a678-873f56162724",
   "metadata": {},
   "outputs": [],
   "source": [
    "# Constants\n",
    "\n",
    "OLLAMA_API = \"http://localhost:11434/api/chat\"\n",
    "HEADERS = {\"Content-Type\": \"application/json\"}\n",
    "MODEL = \"llama3.2\""
   ]
  },
  {
   "cell_type": "code",
   "execution_count": 3,
   "id": "dac0a679-599c-441f-9bf2-ddc73d35b940",
   "metadata": {},
   "outputs": [],
   "source": [
    "# Create a messages list using the same format that we used for OpenAI\n",
    "\n",
    "messages = [\n",
    "    {\"role\": \"user\", \"content\": \"Describe some of the business applications of Generative AI\"}\n",
    "]"
   ]
  },
  {
   "cell_type": "code",
   "execution_count": 4,
   "id": "7bb9c624-14f0-4945-a719-8ddb64f66f47",
   "metadata": {},
   "outputs": [],
   "source": [
    "payload = {\n",
    "        \"model\": MODEL,\n",
    "        \"messages\": messages,\n",
    "        \"stream\": False\n",
    "    }"
   ]
  },
  {
   "cell_type": "code",
   "execution_count": null,
   "id": "479ff514-e8bd-4985-a572-2ea28bb4fa40",
   "metadata": {},
   "outputs": [],
   "source": [
    "# Let's just make sure the model is loaded\n",
    "\n",
    "!ollama pull llama3.2"
   ]
  },
  {
   "cell_type": "code",
   "execution_count": 5,
   "id": "42b9f644-522d-4e05-a691-56e7658c0ea9",
   "metadata": {},
   "outputs": [
    {
     "name": "stdout",
     "output_type": "stream",
     "text": [
      "Generative AI has numerous business applications across various industries, including:\n",
      "\n",
      "1. **Content Creation**: Generative AI can generate high-quality content such as articles, social media posts, and product descriptions, saving time and resources for businesses.\n",
      "2. **Marketing Automation**: Generative AI can create personalized marketing campaigns, customer emails, and ad copy, helping businesses to increase their online presence and engagement.\n",
      "3. **Product Design and Development**: Generative AI can assist in designing new products, such as fashion designs, architectural models, or product prototypes, reducing the time and cost associated with traditional design methods.\n",
      "4. **Customer Service Chatbots**: Generative AI-powered chatbots can provide 24/7 customer support, answering common questions, and helping businesses to improve their customer experience.\n",
      "5. **Data Analysis and Insights**: Generative AI can analyze large datasets, identify patterns, and generate insights that help businesses make data-driven decisions.\n",
      "6. **Predictive Maintenance**: Generative AI can predict equipment failures, reducing downtime and increasing overall efficiency for industries such as manufacturing and energy.\n",
      "7. **Image and Video Generation**: Generative AI can create high-quality images and videos for various business applications, including product photography, marketing materials, and social media content.\n",
      "8. **Virtual Assistants**: Generative AI-powered virtual assistants can assist businesses with tasks such as scheduling appointments, managing calendars, and sending reminders.\n",
      "9. **Supply Chain Optimization**: Generative AI can optimize supply chain operations by predicting demand, identifying bottlenecks, and recommending improvements to logistics and inventory management.\n",
      "10. **Financial Analysis**: Generative AI can analyze large financial datasets, identify trends, and generate insights that help businesses make informed investment decisions.\n",
      "\n",
      "Some specific business use cases for Generative AI include:\n",
      "\n",
      "* **E-commerce**: Generate product images, descriptions, and social media content\n",
      "* **Advertising**: Create personalized ad copy, target audience profiles, and optimize ad campaigns\n",
      "* **Healthcare**: Analyze medical images, identify patterns, and generate diagnoses\n",
      "* **Retail**: Design store layouts, create visual merchandising displays, and predict customer behavior\n",
      "* **Finance**: Analyze financial data, identify trends, and generate investment recommendations\n",
      "\n",
      "These are just a few examples of the many business applications of Generative AI. As the technology continues to evolve, we can expect to see even more innovative uses cases emerge in various industries.\n"
     ]
    }
   ],
   "source": [
    "# If this doesn't work for any reason, try the 2 versions in the following cells\n",
    "# And double check the instructions in the 'Recap on installation of Ollama' at the top of this lab\n",
    "# And if none of that works - contact me!\n",
    "\n",
    "response = requests.post(OLLAMA_API, json=payload, headers=HEADERS)\n",
    "print(response.json()['message']['content'])"
   ]
  },
  {
   "cell_type": "markdown",
   "id": "6a021f13-d6a1-4b96-8e18-4eae49d876fe",
   "metadata": {},
   "source": [
    "# Introducing the ollama package\n",
    "\n",
    "And now we'll do the same thing, but using the elegant ollama python package instead of a direct HTTP call.\n",
    "\n",
    "Under the hood, it's making the same call as above to the ollama server running at localhost:11434"
   ]
  },
  {
   "cell_type": "code",
   "execution_count": 8,
   "id": "469f5f4d",
   "metadata": {},
   "outputs": [
    {
     "name": "stdout",
     "output_type": "stream",
     "text": [
      "Collecting ollama\n",
      "  Downloading ollama-0.5.1-py3-none-any.whl.metadata (4.3 kB)\n",
      "Requirement already satisfied: httpx>=0.27 in c:\\users\\yliu378\\programs\\python\\lib\\site-packages (from ollama) (0.28.1)\n",
      "Requirement already satisfied: pydantic>=2.9 in c:\\users\\yliu378\\programs\\python\\lib\\site-packages (from ollama) (2.10.6)\n",
      "Requirement already satisfied: anyio in c:\\users\\yliu378\\programs\\python\\lib\\site-packages (from httpx>=0.27->ollama) (4.8.0)\n",
      "Requirement already satisfied: certifi in c:\\users\\yliu378\\programs\\python\\lib\\site-packages (from httpx>=0.27->ollama) (2023.7.22)\n",
      "Requirement already satisfied: httpcore==1.* in c:\\users\\yliu378\\programs\\python\\lib\\site-packages (from httpx>=0.27->ollama) (1.0.7)\n",
      "Requirement already satisfied: idna in c:\\users\\yliu378\\programs\\python\\lib\\site-packages (from httpx>=0.27->ollama) (2.10)\n",
      "Requirement already satisfied: h11<0.15,>=0.13 in c:\\users\\yliu378\\programs\\python\\lib\\site-packages (from httpcore==1.*->httpx>=0.27->ollama) (0.14.0)\n",
      "Requirement already satisfied: annotated-types>=0.6.0 in c:\\users\\yliu378\\programs\\python\\lib\\site-packages (from pydantic>=2.9->ollama) (0.7.0)\n",
      "Requirement already satisfied: pydantic-core==2.27.2 in c:\\users\\yliu378\\programs\\python\\lib\\site-packages (from pydantic>=2.9->ollama) (2.27.2)\n",
      "Requirement already satisfied: typing-extensions>=4.12.2 in c:\\users\\yliu378\\programs\\python\\lib\\site-packages (from pydantic>=2.9->ollama) (4.12.2)\n",
      "Requirement already satisfied: sniffio>=1.1 in c:\\users\\yliu378\\programs\\python\\lib\\site-packages (from anyio->httpx>=0.27->ollama) (1.3.1)\n",
      "Downloading ollama-0.5.1-py3-none-any.whl (13 kB)\n",
      "Installing collected packages: ollama\n",
      "Successfully installed ollama-0.5.1\n",
      "Note: you may need to restart the kernel to use updated packages.\n"
     ]
    },
    {
     "name": "stderr",
     "output_type": "stream",
     "text": [
      "\n",
      "[notice] A new release of pip is available: 24.0 -> 25.1.1\n",
      "[notice] To update, run: python.exe -m pip install --upgrade pip\n"
     ]
    }
   ],
   "source": [
    "pip install ollama"
   ]
  },
  {
   "cell_type": "code",
   "execution_count": 9,
   "id": "7745b9c4-57dc-4867-9180-61fa5db55eb8",
   "metadata": {},
   "outputs": [
    {
     "name": "stdout",
     "output_type": "stream",
     "text": [
      "Generative AI has numerous business applications across various industries. Here are some examples:\n",
      "\n",
      "1. **Content Generation**: AI-powered generative models can create high-quality content, such as:\n",
      "\t* Blog posts and articles\n",
      "\t* Social media posts and ads\n",
      "\t* Product descriptions and copywriting\n",
      "\t* Music and audio tracks\n",
      "2. **Design and Visualizations**: Generative AI can assist in design tasks, like:\n",
      "\t* Logo creation\n",
      "\t* Infographic design\n",
      "\t* Graphic design for advertising and marketing materials\n",
      "\t* Architectural visualizations\n",
      "3. **Product Design and Development**: AI-generated designs can aid in product development, including:\n",
      "\t* Product mockups and prototypes\n",
      "\t* 3D modeling and rendering\n",
      "\t* User interface (UI) and user experience (UX) design\n",
      "4. **Chatbots and Customer Service**: Generative AI-powered chatbots can:\n",
      "\t* Provide personalized customer support\n",
      "\t* Offer real-time assistance and guidance\n",
      "\t* Help with routine inquiries and issues\n",
      "5. **Marketing Automation**: AI-generated content and personalization can enhance marketing efforts, such as:\n",
      "\t* Personalized email campaigns\n",
      "\t* Targeted social media ads\n",
      "\t* Automated lead generation and nurturing\n",
      "6. **Data Analysis and Visualization**: Generative AI can help analyze and visualize data, including:\n",
      "\t* Predictive modeling and forecasting\n",
      "\t* Data-driven insights and recommendations\n",
      "\t* Visualizations for business intelligence and reporting\n",
      "7. **Creative Writing and Storytelling**: AI-powered generative models can create engaging stories, scripts, and characters, such as:\n",
      "\t* Novel writing\n",
      "\t* Screenplay development\n",
      "\t* Content marketing copywriting\n",
      "8. **Music Composition and Production**: Generative AI can assist in music creation, including:\n",
      "\t* Music composition and scoring\n",
      "\t* Sound effects and audio processing\n",
      "\t* Music production and remixing\n",
      "9. **Fashion Design and Trend Forecasting**: AI-generated designs can aid in fashion trends, including:\n",
      "\t* Fashion design and pattern making\n",
      "\t* Trend forecasting and styling\n",
      "\t* Personalized clothing recommendations\n",
      "10. **Healthcare and Medical Research**: Generative AI can assist in medical research, clinical trials, and patient care, such as:\n",
      "\t* Data analysis and visualization for medical imaging\n",
      "\t* Predictive modeling for disease diagnosis and treatment\n",
      "\t* Personalized medicine and patient outcomes prediction\n",
      "\n",
      "These are just a few examples of the many business applications of Generative AI. As this technology continues to evolve, we can expect even more innovative use cases across various industries.\n"
     ]
    }
   ],
   "source": [
    "import ollama\n",
    "\n",
    "response = ollama.chat(model=MODEL, messages=messages)\n",
    "print(response['message']['content'])"
   ]
  },
  {
   "cell_type": "markdown",
   "id": "a4704e10-f5fb-4c15-a935-f046c06fb13d",
   "metadata": {},
   "source": [
    "## Alternative approach - using OpenAI python library to connect to Ollama"
   ]
  },
  {
   "cell_type": "code",
   "execution_count": 7,
   "id": "23057e00-b6fc-4678-93a9-6b31cb704bff",
   "metadata": {},
   "outputs": [
    {
     "name": "stdout",
     "output_type": "stream",
     "text": [
      "Generative AI has numerous business applications across various industries, including:\n",
      "\n",
      "1. **Content Creation**: AI-generated content such as articles, social media posts, and videos can help businesses create high-quality content quickly and efficiently. For example, AI-powered writing tools like Article Forge can generate content based on keyword research and a given topic.\n",
      "2. **Marketing and Advertising**: Generative AI can be used to create personalized advertisements, product images, and social media posts that appeal to specific audiences. AI-generated ads have been shown to outperform human-created ones in terms of click-through rates and conversion rates.\n",
      "3. **Product Design**: Generative AI tools like Midjourney and Deep Dream Generator can help design products by generating 3D models, textures, and patterns based on design prompts.\n",
      "4. **Finance and Accounting**: AI-powered accounting software can process invoices, bookkeeping, and tax returns, reducing the need for manual intervention and increasing accuracy.\n",
      "5. **Customer Service Chatbots**: Generative AI chatbots can analyze customer inquiries and respond with relevant solutions, providing personalized support and improving customer satisfaction.\n",
      "6. **Image Recognition and Classification**: AI-powered image recognition tools can help businesses automate data classification, quality control, and product identification.\n",
      "7. **Speech Recognition**: Generative AI-powered speech recognition systems can transcribe spoken words in real-time, helping businesses automate voicemail messages, transcription services, and phone customer support.\n",
      "8. **Financial Analysis and Forecasting**: AI algorithms can analyze large datasets to predict market trends, identify investment opportunities, and provide insights on potential risks and return on investments.\n",
      "9. **Data Compression and Storage**: Generative AI-powered compression tools can reduce storage needs for businesses by compressing large files and data sets without sacrificing quality.\n",
      "10. **Innovation and Idea Generation**: Generative AI tools like Dreambox and Ideabench can generate new ideas, concepts, and innovations based on existing knowledge graphs and machine learning models.\n",
      "\n",
      "Some specific examples of business applications of generative AI include:\n",
      "\n",
      "* **Lloyds of London**, which uses AI-powered chatbots to answer common insurance-related queries.\n",
      "* **Microsoft**, which is using Generative AI to personalize its Office software, generating personalized templates and meeting invitations based on user inputs.\n",
      "* **Walmart**, which has developed an AI-powered system that generates custom images for advertising campaigns in-store and online.\n",
      "\n",
      "These examples demonstrate how generative AI can help businesses streamline processes, improve efficiency, and create personal experiences, ultimately driving growth and competitiveness.\n"
     ]
    }
   ],
   "source": [
    "# There's actually an alternative approach that some people might prefer\n",
    "# You can use the OpenAI client python library to call Ollama:\n",
    "\n",
    "from openai import OpenAI\n",
    "ollama_via_openai = OpenAI(base_url='http://localhost:11434/v1', api_key='ollama')\n",
    "\n",
    "response = ollama_via_openai.chat.completions.create(\n",
    "    model=MODEL,\n",
    "    messages=messages\n",
    ")\n",
    "\n",
    "print(response.choices[0].message.content)"
   ]
  },
  {
   "cell_type": "markdown",
   "id": "9f9e22da-b891-41f6-9ac9-bd0c0a5f4f44",
   "metadata": {},
   "source": [
    "## Are you confused about why that works?\n",
    "\n",
    "It seems strange, right? We just used OpenAI code to call Ollama?? What's going on?!\n",
    "\n",
    "Here's the scoop:\n",
    "\n",
    "The python class `OpenAI` is simply code written by OpenAI engineers that makes calls over the internet to an endpoint.  \n",
    "\n",
    "When you call `openai.chat.completions.create()`, this python code just makes a web request to the following url: \"https://api.openai.com/v1/chat/completions\"\n",
    "\n",
    "Code like this is known as a \"client library\" - it's just wrapper code that runs on your machine to make web requests. The actual power of GPT is running on OpenAI's cloud behind this API, not on your computer!\n",
    "\n",
    "OpenAI was so popular, that lots of other AI providers provided identical web endpoints, so you could use the same approach.\n",
    "\n",
    "So Ollama has an endpoint running on your local box at http://localhost:11434/v1/chat/completions  \n",
    "And in week 2 we'll discover that lots of other providers do this too, including Gemini and DeepSeek.\n",
    "\n",
    "And then the team at OpenAI had a great idea: they can extend their client library so you can specify a different 'base url', and use their library to call any compatible API.\n",
    "\n",
    "That's it!\n",
    "\n",
    "So when you say: `ollama_via_openai = OpenAI(base_url='http://localhost:11434/v1', api_key='ollama')`  \n",
    "Then this will make the same endpoint calls, but to Ollama instead of OpenAI."
   ]
  },
  {
   "cell_type": "markdown",
   "id": "bc7d1de3-e2ac-46ff-a302-3b4ba38c4c90",
   "metadata": {},
   "source": [
    "## Also trying the amazing reasoning model DeepSeek\n",
    "\n",
    "Here we use the version of DeepSeek-reasoner that's been distilled to 1.5B.  \n",
    "This is actually a 1.5B variant of Qwen that has been fine-tuned using synethic data generated by Deepseek R1.\n",
    "\n",
    "Other sizes of DeepSeek are [here](https://ollama.com/library/deepseek-r1) all the way up to the full 671B parameter version, which would use up 404GB of your drive and is far too large for most!"
   ]
  },
  {
   "cell_type": "code",
   "execution_count": null,
   "id": "cf9eb44e-fe5b-47aa-b719-0bb63669ab3d",
   "metadata": {},
   "outputs": [],
   "source": [
    "!ollama pull deepseek-r1:1.5b"
   ]
  },
  {
   "cell_type": "code",
   "execution_count": null,
   "id": "1d3d554b-e00d-4c08-9300-45e073950a76",
   "metadata": {},
   "outputs": [],
   "source": [
    "# This may take a few minutes to run! You should then see a fascinating \"thinking\" trace inside <think> tags, followed by some decent definitions\n",
    "\n",
    "response = ollama_via_openai.chat.completions.create(\n",
    "    model=\"deepseek-r1:1.5b\",\n",
    "    messages=[{\"role\": \"user\", \"content\": \"Please give definitions of some core concepts behind LLMs: a neural network, attention and the transformer\"}]\n",
    ")\n",
    "\n",
    "print(response.choices[0].message.content)"
   ]
  },
  {
   "cell_type": "markdown",
   "id": "1622d9bb-5c68-4d4e-9ca4-b492c751f898",
   "metadata": {},
   "source": [
    "# NOW the exercise for you\n",
    "\n",
    "Take the code from day1 and incorporate it here, to build a website summarizer that uses Llama 3.2 running locally instead of OpenAI; use either of the above approaches."
   ]
  },
  {
   "cell_type": "code",
   "execution_count": null,
   "id": "6de38216-6d1c-48c4-877b-86d403f4e0f8",
   "metadata": {},
   "outputs": [],
   "source": []
  }
 ],
 "metadata": {
  "kernelspec": {
   "display_name": "Python 3",
   "language": "python",
   "name": "python3"
  },
  "language_info": {
   "codemirror_mode": {
    "name": "ipython",
    "version": 3
   },
   "file_extension": ".py",
   "mimetype": "text/x-python",
   "name": "python",
   "nbconvert_exporter": "python",
   "pygments_lexer": "ipython3",
   "version": "3.12.0"
  }
 },
 "nbformat": 4,
 "nbformat_minor": 5
}
